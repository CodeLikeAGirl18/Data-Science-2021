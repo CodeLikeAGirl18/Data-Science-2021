{
  "nbformat": 4,
  "nbformat_minor": 0,
  "metadata": {
    "colab": {
      "name": "milestone1.ipynb",
      "provenance": [],
      "collapsed_sections": [],
      "toc_visible": true,
      "authorship_tag": "ABX9TyOVMd4aJx1Z5SoxPvqGYsKv",
      "include_colab_link": true
    },
    "kernelspec": {
      "display_name": "Python 3",
      "name": "python3"
    }
  },
  "cells": [
    {
      "cell_type": "markdown",
      "metadata": {
        "id": "view-in-github",
        "colab_type": "text"
      },
      "source": [
        "<a href=\"https://colab.research.google.com/github/CodeLikeAGirl18/Data-Science-2021/blob/main/milestone1.ipynb\" target=\"_parent\"><img src=\"https://colab.research.google.com/assets/colab-badge.svg\" alt=\"Open In Colab\"/></a>"
      ]
    },
    {
      "cell_type": "markdown",
      "metadata": {
        "id": "sRnktApeGstm"
      },
      "source": [
        "# Task 1:\n",
        "\n",
        "If you haven't already done so, the first task is to form a group of 2-4 people. There is an announcement on Absalon describing how to do this. Make sure that you list the names of all members of the group at the top of the jupyter notebook along with your group number.\n"
      ]
    },
    {
      "cell_type": "markdown",
      "metadata": {
        "id": "pWFz4iRuG5mr"
      },
      "source": [
        "Group 16:\n",
        "\n",
        "Julie Mann Kjeldsen, ngj903\n",
        "\n",
        "Asger .."
      ]
    },
    {
      "cell_type": "markdown",
      "metadata": {
        "id": "7cKnnbJfJH9K"
      },
      "source": [
        "# Task 2\n",
        "\n",
        "For our fake news predictor, we will be using the FakeNewsCorpus dataset as our primary dataset. It is available from this github repository: https://github.com/several27/FakeNewsCorpus, where you can also find information about how the data is collected, the available fields, etc. In this first milestone, we will work only on a small subset of the FakeNewsCorpus dataset. Your first task is to retrieve this subset from https://raw.githubusercontent.com/several27/FakeNewsCorpus/master/news_sample.csv and structure/process/clean it. Describe which procedures (and which libraries) you used and why they are appropriate."
      ]
    },
    {
      "cell_type": "code",
      "metadata": {
        "colab": {
          "base_uri": "https://localhost:8080/"
        },
        "id": "RxaPFZLlaC_Y",
        "outputId": "f82c301e-f59a-43f4-efd4-4e3f02f9a5d3"
      },
      "source": [
        "pip install clean-text[gpl]"
      ],
      "execution_count": 4,
      "outputs": [
        {
          "output_type": "stream",
          "text": [
            "Collecting clean-text[gpl]\n",
            "  Downloading https://files.pythonhosted.org/packages/78/30/7013e9bf37e00ad81406c771e8f5b071c624b8ab27a7984cd9b8434bed4f/clean_text-0.3.0-py3-none-any.whl\n",
            "Collecting emoji\n",
            "\u001b[?25l  Downloading https://files.pythonhosted.org/packages/24/fa/b3368f41b95a286f8d300e323449ab4e86b85334c2e0b477e94422b8ed0f/emoji-1.2.0-py3-none-any.whl (131kB)\n",
            "\u001b[K     |████████████████████████████████| 133kB 4.4MB/s \n",
            "\u001b[?25hCollecting ftfy<6.0,>=5.8\n",
            "\u001b[?25l  Downloading https://files.pythonhosted.org/packages/04/06/e5c80e2e0f979628d47345efba51f7ba386fe95963b11c594209085f5a9b/ftfy-5.9.tar.gz (66kB)\n",
            "\u001b[K     |████████████████████████████████| 71kB 4.2MB/s \n",
            "\u001b[?25hCollecting unidecode<2.0.0,>=1.1.1; extra == \"gpl\"\n",
            "\u001b[?25l  Downloading https://files.pythonhosted.org/packages/9e/25/723487ca2a52ebcee88a34d7d1f5a4b80b793f179ee0f62d5371938dfa01/Unidecode-1.2.0-py2.py3-none-any.whl (241kB)\n",
            "\u001b[K     |████████████████████████████████| 245kB 6.4MB/s \n",
            "\u001b[?25hRequirement already satisfied: wcwidth in /usr/local/lib/python3.7/dist-packages (from ftfy<6.0,>=5.8->clean-text[gpl]) (0.2.5)\n",
            "Building wheels for collected packages: ftfy\n",
            "  Building wheel for ftfy (setup.py) ... \u001b[?25l\u001b[?25hdone\n",
            "  Created wheel for ftfy: filename=ftfy-5.9-cp37-none-any.whl size=46451 sha256=84704933da52308f6d0abfcaf97b57d3e9f52c5a651222571a217f839cb250fd\n",
            "  Stored in directory: /root/.cache/pip/wheels/5e/2e/f0/b07196e8c929114998f0316894a61c752b63bfa3fdd50d2fc3\n",
            "Successfully built ftfy\n",
            "Installing collected packages: emoji, ftfy, unidecode, clean-text\n",
            "Successfully installed clean-text-0.3.0 emoji-1.2.0 ftfy-5.9 unidecode-1.2.0\n"
          ],
          "name": "stdout"
        }
      ]
    },
    {
      "cell_type": "code",
      "metadata": {
        "colab": {
          "base_uri": "https://localhost:8080/"
        },
        "id": "0xTWfEBP2ITS",
        "outputId": "dd3d330d-cb15-4809-c50a-4bad1c19dee0"
      },
      "source": [
        "# Import packages and dependencies\n",
        "from urllib.request import urlretrieve #for csv url import\n",
        "import os\n",
        "import pandas as pd\n",
        "import numpy as np\n",
        "import math\n",
        "import requests\n",
        "from bs4 import BeautifulSoup as bs4\n",
        "import re\n",
        "from cleantext import clean\n",
        "import nltk\n",
        "from nltk import word_tokenize\n",
        "from nltk.corpus import stopwords\n",
        "from nltk.stem import porter\n",
        "nltk.download('punkt')\n",
        "nltk.download('stopwords')\n",
        "import matplotlib.pyplot as plt\n",
        "\n"
      ],
      "execution_count": 5,
      "outputs": [
        {
          "output_type": "stream",
          "text": [
            "[nltk_data] Downloading package punkt to /root/nltk_data...\n",
            "[nltk_data]   Unzipping tokenizers/punkt.zip.\n",
            "[nltk_data] Downloading package stopwords to /root/nltk_data...\n",
            "[nltk_data]   Unzipping corpora/stopwords.zip.\n"
          ],
          "name": "stdout"
        }
      ]
    },
    {
      "cell_type": "markdown",
      "metadata": {
        "id": "Fx25cSs_6I4H"
      },
      "source": [
        "Retrieve subset:"
      ]
    },
    {
      "cell_type": "code",
      "metadata": {
        "id": "7F63PIE06DSp"
      },
      "source": [
        "# assign url of file\n",
        "url_news_sample = \"https://raw.githubusercontent.com/several27/FakeNewsCorpus/master/news_sample.csv\"\n"
      ],
      "execution_count": 5,
      "outputs": []
    },
    {
      "cell_type": "code",
      "metadata": {
        "colab": {
          "base_uri": "https://localhost:8080/"
        },
        "id": "vCGSwjIP855T",
        "outputId": "6554ca69-8923-4f82-dec9-b1b03b66033b"
      },
      "source": [
        "# save file locally\n",
        "urlretrieve(url_news_sample, (\"/content/news_sample.csv\"))"
      ],
      "execution_count": 6,
      "outputs": [
        {
          "output_type": "execute_result",
          "data": {
            "text/plain": [
              "('/content/news_sample.csv', <http.client.HTTPMessage at 0x7f32ee3868d0>)"
            ]
          },
          "metadata": {
            "tags": []
          },
          "execution_count": 6
        }
      ]
    },
    {
      "cell_type": "code",
      "metadata": {
        "id": "7Y9ZaP4rALW4"
      },
      "source": [
        "# read file into DataFrame and print its head\n",
        "data_df = pd.read_csv(\"/content/news_sample.csv\")"
      ],
      "execution_count": 7,
      "outputs": []
    },
    {
      "cell_type": "code",
      "metadata": {
        "colab": {
          "base_uri": "https://localhost:8080/",
          "height": 517
        },
        "id": "aAB0o7voB_Uz",
        "outputId": "e6730b4b-3a7d-4bd3-f4ea-360258418e11"
      },
      "source": [
        "# display the table\n",
        "data_df.head()\n"
      ],
      "execution_count": 8,
      "outputs": [
        {
          "output_type": "execute_result",
          "data": {
            "text/html": [
              "<div>\n",
              "<style scoped>\n",
              "    .dataframe tbody tr th:only-of-type {\n",
              "        vertical-align: middle;\n",
              "    }\n",
              "\n",
              "    .dataframe tbody tr th {\n",
              "        vertical-align: top;\n",
              "    }\n",
              "\n",
              "    .dataframe thead th {\n",
              "        text-align: right;\n",
              "    }\n",
              "</style>\n",
              "<table border=\"1\" class=\"dataframe\">\n",
              "  <thead>\n",
              "    <tr style=\"text-align: right;\">\n",
              "      <th></th>\n",
              "      <th>Unnamed: 0</th>\n",
              "      <th>id</th>\n",
              "      <th>domain</th>\n",
              "      <th>type</th>\n",
              "      <th>url</th>\n",
              "      <th>content</th>\n",
              "      <th>scraped_at</th>\n",
              "      <th>inserted_at</th>\n",
              "      <th>updated_at</th>\n",
              "      <th>title</th>\n",
              "      <th>authors</th>\n",
              "      <th>keywords</th>\n",
              "      <th>meta_keywords</th>\n",
              "      <th>meta_description</th>\n",
              "      <th>tags</th>\n",
              "      <th>summary</th>\n",
              "    </tr>\n",
              "  </thead>\n",
              "  <tbody>\n",
              "    <tr>\n",
              "      <th>0</th>\n",
              "      <td>0</td>\n",
              "      <td>141</td>\n",
              "      <td>awm.com</td>\n",
              "      <td>unreliable</td>\n",
              "      <td>http://awm.com/church-congregation-brings-gift...</td>\n",
              "      <td>Sometimes the power of Christmas will make you...</td>\n",
              "      <td>2018-01-25 16:17:44.789555</td>\n",
              "      <td>2018-02-02 01:19:41.756632</td>\n",
              "      <td>2018-02-02 01:19:41.756664</td>\n",
              "      <td>Church Congregation Brings Gift to Waitresses ...</td>\n",
              "      <td>Ruth Harris</td>\n",
              "      <td>NaN</td>\n",
              "      <td>['']</td>\n",
              "      <td>NaN</td>\n",
              "      <td>NaN</td>\n",
              "      <td>NaN</td>\n",
              "    </tr>\n",
              "    <tr>\n",
              "      <th>1</th>\n",
              "      <td>1</td>\n",
              "      <td>256</td>\n",
              "      <td>beforeitsnews.com</td>\n",
              "      <td>fake</td>\n",
              "      <td>http://beforeitsnews.com/awakening-start-here/...</td>\n",
              "      <td>AWAKENING OF 12 STRANDS of DNA – “Reconnecting...</td>\n",
              "      <td>2018-01-25 16:17:44.789555</td>\n",
              "      <td>2018-02-02 01:19:41.756632</td>\n",
              "      <td>2018-02-02 01:19:41.756664</td>\n",
              "      <td>AWAKENING OF 12 STRANDS of DNA – “Reconnecting...</td>\n",
              "      <td>Zurich Times</td>\n",
              "      <td>NaN</td>\n",
              "      <td>['']</td>\n",
              "      <td>NaN</td>\n",
              "      <td>NaN</td>\n",
              "      <td>NaN</td>\n",
              "    </tr>\n",
              "    <tr>\n",
              "      <th>2</th>\n",
              "      <td>2</td>\n",
              "      <td>700</td>\n",
              "      <td>cnnnext.com</td>\n",
              "      <td>unreliable</td>\n",
              "      <td>http://www.cnnnext.com/video/18526/never-hike-...</td>\n",
              "      <td>Never Hike Alone: A Friday the 13th Fan Film U...</td>\n",
              "      <td>2018-01-25 16:17:44.789555</td>\n",
              "      <td>2018-02-02 01:19:41.756632</td>\n",
              "      <td>2018-02-02 01:19:41.756664</td>\n",
              "      <td>Never Hike Alone - A Friday the 13th Fan Film ...</td>\n",
              "      <td>NaN</td>\n",
              "      <td>NaN</td>\n",
              "      <td>['']</td>\n",
              "      <td>Never Hike Alone: A Friday the 13th Fan Film  ...</td>\n",
              "      <td>NaN</td>\n",
              "      <td>NaN</td>\n",
              "    </tr>\n",
              "    <tr>\n",
              "      <th>3</th>\n",
              "      <td>3</td>\n",
              "      <td>768</td>\n",
              "      <td>awm.com</td>\n",
              "      <td>unreliable</td>\n",
              "      <td>http://awm.com/elusive-alien-of-the-sea-caught...</td>\n",
              "      <td>When a rare shark was caught, scientists were ...</td>\n",
              "      <td>2018-01-25 16:17:44.789555</td>\n",
              "      <td>2018-02-02 01:19:41.756632</td>\n",
              "      <td>2018-02-02 01:19:41.756664</td>\n",
              "      <td>Elusive ‘Alien Of The Sea ‘ Caught By Scientis...</td>\n",
              "      <td>Alexander Smith</td>\n",
              "      <td>NaN</td>\n",
              "      <td>['']</td>\n",
              "      <td>NaN</td>\n",
              "      <td>NaN</td>\n",
              "      <td>NaN</td>\n",
              "    </tr>\n",
              "    <tr>\n",
              "      <th>4</th>\n",
              "      <td>4</td>\n",
              "      <td>791</td>\n",
              "      <td>bipartisanreport.com</td>\n",
              "      <td>clickbait</td>\n",
              "      <td>http://bipartisanreport.com/2018/01/21/trumps-...</td>\n",
              "      <td>Donald Trump has the unnerving ability to abil...</td>\n",
              "      <td>2018-01-25 16:17:44.789555</td>\n",
              "      <td>2018-02-02 01:19:41.756632</td>\n",
              "      <td>2018-02-02 01:19:41.756664</td>\n",
              "      <td>Trump’s Genius Poll Is Complete &amp; The Results ...</td>\n",
              "      <td>Gloria Christie</td>\n",
              "      <td>NaN</td>\n",
              "      <td>['']</td>\n",
              "      <td>NaN</td>\n",
              "      <td>NaN</td>\n",
              "      <td>NaN</td>\n",
              "    </tr>\n",
              "  </tbody>\n",
              "</table>\n",
              "</div>"
            ],
            "text/plain": [
              "   Unnamed: 0   id  ... tags summary\n",
              "0           0  141  ...  NaN     NaN\n",
              "1           1  256  ...  NaN     NaN\n",
              "2           2  700  ...  NaN     NaN\n",
              "3           3  768  ...  NaN     NaN\n",
              "4           4  791  ...  NaN     NaN\n",
              "\n",
              "[5 rows x 16 columns]"
            ]
          },
          "metadata": {
            "tags": []
          },
          "execution_count": 8
        }
      ]
    },
    {
      "cell_type": "markdown",
      "metadata": {
        "id": "pdkUcSieEXTQ"
      },
      "source": [
        "structure/process/clean data\n"
      ]
    },
    {
      "cell_type": "code",
      "metadata": {
        "id": "bzJBOEJzEZUi"
      },
      "source": [
        "# function for handling lowercase, urls, numbers, mails replaced, newlines\n",
        "def fast_clean(text):\n",
        "    return clean(text, lower=True, no_urls=True, no_numbers=True,\n",
        "                no_emails=True, no_line_breaks=True,\n",
        "                replace_with_url=\"<URL>\",\n",
        "                replace_with_email=\"<EMAIL>\",\n",
        "                replace_with_number=\"<NUM>\")\n",
        "\n",
        "#Dates? whitespace? Year nums replaced with NUM,"
      ],
      "execution_count": 9,
      "outputs": []
    },
    {
      "cell_type": "code",
      "metadata": {
        "id": "vTjHj9DD-D-c"
      },
      "source": [
        "# clean content, titles, author and type(necessary?) colums\n",
        "# turn colums into strings or lists.\n",
        "\n",
        "# method for cleaning content in data \n",
        "def clean_content():\n",
        "    cleaned_data = []\n",
        "    for i in data_df[\"content\"]:\n",
        "      cleaned_data.append(fast_clean(i))\n",
        "    string_of_contents = \",\".join([content for content in cleaned_data])\n",
        "    return string_of_contents\n",
        "\n",
        "# method for cleaning titles in data \n",
        "def clean_titles():\n",
        "    cleaned_data = []\n",
        "    for i in data_df[\"title\"]:\n",
        "      cleaned_data.append(fast_clean(i))\n",
        "    string_of_titles = \",\".join([title for title in cleaned_data])\n",
        "    return string_of_titles\n",
        "\n",
        "\n",
        "#Get all domains as list //not clean bco <URL>\n",
        "def domain_list():\n",
        "  list_of_domains_data = []\n",
        "  for i in data_df[\"domain\"]:\n",
        "    list_of_domains_data.append(i)\n",
        "  return list_of_domains_data\n",
        "\n",
        "#Get all types as list\n",
        "def type_list():\n",
        "  list_of_types_data = []\n",
        "  for i in data_df[\"type\"]:\n",
        "    list_of_types_data.append(fast_clean(i))\n",
        "  return list_of_types_data\n",
        "\n",
        "#Get all authors as list\n",
        "def author_list():\n",
        "  list_of_authors_data = []\n",
        "  for i in data_df[\"authors\"]:\n",
        "    list_of_authors_data.append(i)\n",
        "  return list_of_authors_data\n",
        "\n"
      ],
      "execution_count": 59,
      "outputs": []
    },
    {
      "cell_type": "code",
      "metadata": {
        "id": "v0DxUaAYcO1S"
      },
      "source": [
        "# strings of cleaned data colums\n",
        "string_of_contents = clean_content()\n",
        "string_of_titles = clean_titles()\n",
        "\n",
        "# lists of cleaned data colums\n",
        "list_of_domains_data = domain_list()\n",
        "list_of_types_data = type_list()\n",
        "list_of_authors_data = author_list() #no clean"
      ],
      "execution_count": 60,
      "outputs": []
    },
    {
      "cell_type": "markdown",
      "metadata": {
        "id": "TBbHLhRn5OZa"
      },
      "source": [
        "# Bodies of text (content, titles)"
      ]
    },
    {
      "cell_type": "code",
      "metadata": {
        "id": "pWMofjTvOiqB",
        "colab": {
          "base_uri": "https://localhost:8080/"
        },
        "outputId": "e88dd809-0092-4f33-a827-6586cc0fbf54"
      },
      "source": [
        "# Work on bodies of text (content and titles) - tokenize, remove stopwords, gain vocabulary\n",
        "\n",
        "#Tokenize contents set and get vocabulary\n",
        "tokens_content = word_tokenize(string_of_contents)\n",
        "vocab_content = set(tokens_content)\n",
        "print(\"The size of content vocabulary is\", len(vocab_content))\n",
        "\n",
        "#Tokenize titles set and get vocabulary\n",
        "tokens_title = word_tokenize(string_of_titles)\n",
        "vocab_title = set(tokens_title)\n",
        "print(\"The size of title vocabulary is\", len(vocab_title))\n"
      ],
      "execution_count": 12,
      "outputs": [
        {
          "output_type": "stream",
          "text": [
            "The size of content vocabulary is 16565\n",
            "The size of title vocabulary is 1390\n"
          ],
          "name": "stdout"
        }
      ]
    },
    {
      "cell_type": "code",
      "metadata": {
        "colab": {
          "base_uri": "https://localhost:8080/",
          "height": 257
        },
        "id": "eS3ZVwfbeYQ3",
        "outputId": "3fe679d0-1be9-4b8e-9bfb-296b6da78468"
      },
      "source": [
        "#Remove stopwords from content\n",
        "tokens_content_without_sw = [word for word in tokens_content if not word in stopwords.words('english')]\n",
        "vocab_content_without_sw = set(tokens_content_without_sw)\n",
        "\n",
        "#Remove stopwords from titles \n",
        "tokens_title_without_sw = [word for word in tokens_title if not word in stopwords.words('english')]\n",
        "vocab_title_without_sw = set(tokens_title_without_sw)\n",
        "\n"
      ],
      "execution_count": 1,
      "outputs": [
        {
          "output_type": "error",
          "ename": "NameError",
          "evalue": "ignored",
          "traceback": [
            "\u001b[0;31m---------------------------------------------------------------------------\u001b[0m",
            "\u001b[0;31mNameError\u001b[0m                                 Traceback (most recent call last)",
            "\u001b[0;32m<ipython-input-1-89e465d00690>\u001b[0m in \u001b[0;36m<module>\u001b[0;34m()\u001b[0m\n\u001b[1;32m      1\u001b[0m \u001b[0;31m#Remove stopwords from content\u001b[0m\u001b[0;34m\u001b[0m\u001b[0;34m\u001b[0m\u001b[0;34m\u001b[0m\u001b[0m\n\u001b[0;32m----> 2\u001b[0;31m \u001b[0mtokens_content_without_sw\u001b[0m \u001b[0;34m=\u001b[0m \u001b[0;34m[\u001b[0m\u001b[0mword\u001b[0m \u001b[0;32mfor\u001b[0m \u001b[0mword\u001b[0m \u001b[0;32min\u001b[0m \u001b[0mtokens_content\u001b[0m \u001b[0;32mif\u001b[0m \u001b[0;32mnot\u001b[0m \u001b[0mword\u001b[0m \u001b[0;32min\u001b[0m \u001b[0mstopwords\u001b[0m\u001b[0;34m.\u001b[0m\u001b[0mwords\u001b[0m\u001b[0;34m(\u001b[0m\u001b[0;34m'english'\u001b[0m\u001b[0;34m)\u001b[0m\u001b[0;34m]\u001b[0m\u001b[0;34m\u001b[0m\u001b[0;34m\u001b[0m\u001b[0m\n\u001b[0m\u001b[1;32m      3\u001b[0m \u001b[0mvocab_content_without_sw\u001b[0m \u001b[0;34m=\u001b[0m \u001b[0mset\u001b[0m\u001b[0;34m(\u001b[0m\u001b[0mtokens_content_without_sw\u001b[0m\u001b[0;34m)\u001b[0m\u001b[0;34m\u001b[0m\u001b[0;34m\u001b[0m\u001b[0m\n\u001b[1;32m      4\u001b[0m \u001b[0;34m\u001b[0m\u001b[0m\n\u001b[1;32m      5\u001b[0m \u001b[0;31m#Remove stopwords from titles\u001b[0m\u001b[0;34m\u001b[0m\u001b[0;34m\u001b[0m\u001b[0;34m\u001b[0m\u001b[0m\n",
            "\u001b[0;31mNameError\u001b[0m: name 'tokens_content' is not defined"
          ]
        }
      ]
    },
    {
      "cell_type": "code",
      "metadata": {
        "colab": {
          "base_uri": "https://localhost:8080/"
        },
        "id": "NDfIZIlXebvE",
        "outputId": "274461cf-d9df-4814-ec92-2398b10a85f8"
      },
      "source": [
        "# size of vocas without stopwords\n",
        "print(\"The size of content vocabulary without stopwords is\", len(vocab_content_without_sw ))\n",
        "print(\"The size of title vocabulary without stopwords is\", len(vocab_title_without_sw))"
      ],
      "execution_count": 14,
      "outputs": [
        {
          "output_type": "stream",
          "text": [
            "The size of content vocabulary without stopwords is 16433\n",
            "The size of title vocabulary without stopwords is 1299\n"
          ],
          "name": "stdout"
        }
      ]
    },
    {
      "cell_type": "code",
      "metadata": {
        "colab": {
          "base_uri": "https://localhost:8080/"
        },
        "id": "nq31Gtj8id2z",
        "outputId": "5a385d30-d324-400a-cbcb-26699141a0e4"
      },
      "source": [
        "# reduction rates in content and titel vocab wrt. stop_words\n",
        "num_of_rmved_vocab_content = len(vocab_content) - len(vocab_content_without_sw)\n",
        "reduction_rate_content = (len(vocab_content) - len(vocab_content_without_sw))/len(vocab_content)\n",
        "print(\"We have remoned %d stopwords.\" %num_of_rmved_vocab_content, \\\n",
        "      \"The reduction rate of the title vocabulary size is %0.3f.\" %reduction_rate_content)\n",
        "\n",
        "num_of_rmved_vocab_title = len(vocab_title) - len(vocab_title_without_sw)\n",
        "reduction_rate_title = (len(vocab_title) - len(vocab_title_without_sw))/len(vocab_title)\n",
        "print(\"We have remoned %d stopwords.\" %num_of_rmved_vocab_title, \\\n",
        "      \"The reduction rate of the title vocabulary size is %0.3f.\" %reduction_rate_title)"
      ],
      "execution_count": 15,
      "outputs": [
        {
          "output_type": "stream",
          "text": [
            "We have remoned 132 stopwords. The reduction rate of the title vocabulary size is 0.008.\n",
            "We have remoned 91 stopwords. The reduction rate of the title vocabulary size is 0.065.\n"
          ],
          "name": "stdout"
        }
      ]
    },
    {
      "cell_type": "markdown",
      "metadata": {
        "id": "rdOHWgiZ50nO"
      },
      "source": [
        "# Domain, type and author distribution"
      ]
    },
    {
      "cell_type": "code",
      "metadata": {
        "id": "6i0JVVhrSBwZ"
      },
      "source": [
        "#method to count domain distribution\n",
        "def domain_distribution(domain_list):\n",
        "  #Create a dictionary with domains as keys, all with the value 0:\n",
        "  count_domain = dict.fromkeys(domain_list, 0)\n",
        "  for i in data_df[\"domain\"]:\n",
        "          if i in count_domain:\n",
        "                count_domain[i]+=1\n",
        "  sorted_dict_domains = dict(sorted(count_domain.items(), key=lambda x: x[1], reverse=True))\n",
        "  return sorted_dict_domains\n",
        "\n",
        "#method to count type distribution\n",
        "def type_distribution(type_list):\n",
        "  count_type = dict.fromkeys(type_list, 0)\n",
        "  for i in data_df[\"type\"]:\n",
        "          if i in count_type:\n",
        "                count_type[i]+=1\n",
        "  sorted_dict_types = dict(sorted(count_type.items(), key=lambda x: x[1], reverse=True))\n",
        "  return sorted_dict_types\n",
        "\n",
        "#method to count author domain distribution\n",
        "def author_distribution(author_list):\n",
        "  count_author = dict.fromkeys(author_list, 0)\n",
        "  for i in data_df[\"authors\"]:\n",
        "          if i in count_author:\n",
        "                count_author[i]+=1\n",
        "  sorted_dict_authors = dict(sorted(count_author.items(), key=lambda x: x[1], reverse=True))\n",
        "  return sorted_dict_authors\n"
      ],
      "execution_count": 61,
      "outputs": []
    },
    {
      "cell_type": "code",
      "metadata": {
        "id": "zaz5XMfFZA-A"
      },
      "source": [
        "# domain, type and author dics\n",
        "sorted_dict_domain_distribution = domain_distribution(list_of_domains_data)\n",
        "sorted_dict_type_distribution = type_distribution(list_of_types_data)\n",
        "sorted_dict_author_distribution = author_distribution(list_of_authors_data)\n",
        "\n"
      ],
      "execution_count": 66,
      "outputs": []
    },
    {
      "cell_type": "markdown",
      "metadata": {
        "id": "shJ8XsjwLQZq"
      },
      "source": [
        "# **Task 3**\n",
        "\n",
        "Now try to explore the FakeNewsCorpus dataset. Make at least three non-trivial observations/discoveries about the data. These observations could be related to outliers, artefacts, or even better: genuinely interesting patterns in the data that could potentially be used for fake-news detection. Examples of simple observations could be how many missing values there are in particular columns - or what the distribution over domains is. Be creative! :)."
      ]
    },
    {
      "cell_type": "markdown",
      "metadata": {
        "id": "S1sPdOIzNTPI"
      },
      "source": [
        "\n",
        "Obs could be related to: outliers, artefacts, or even better: genuinely interesting patterns in the data that could potentially be used for fake-news detection\n",
        "\n",
        "\n",
        "Example simple obs:\n",
        "\n",
        "distribution over domains\n",
        "\n",
        " how many missing values there are in particular columns"
      ]
    },
    {
      "cell_type": "markdown",
      "metadata": {
        "id": "E2vw_WeQ6yx4"
      },
      "source": [
        "# Explore text bodies"
      ]
    },
    {
      "cell_type": "code",
      "metadata": {
        "id": "0JpFIfWK62xk"
      },
      "source": [
        "# count words in text-body\n",
        "def count_words(vocabulary, tokens):\n",
        "    count_word = dict.fromkeys(vocabulary, 0)\n",
        "    for i in tokens:\n",
        "            if i in count_word:\n",
        "                count_word[i]+=1\n",
        "    sorted_dict = dict(sorted(count_word.items(), key=lambda x: x[1], reverse=True))\n",
        "    return sorted_dict"
      ],
      "execution_count": 21,
      "outputs": []
    },
    {
      "cell_type": "code",
      "metadata": {
        "id": "mKAlNgS57AKx"
      },
      "source": [
        "#sorted dictionaries - titles, content\n",
        "sorted_dict_content = count_words(vocab_content_without_sw,tokens_content_without_sw)\n",
        "sorted_dict_titles = count_words(vocab_title_without_sw,tokens_title_without_sw)"
      ],
      "execution_count": 22,
      "outputs": []
    },
    {
      "cell_type": "code",
      "metadata": {
        "colab": {
          "base_uri": "https://localhost:8080/"
        },
        "id": "fLYw9Lq37G2b",
        "outputId": "239ce22c-98c6-48e4-f5cc-5eb939cdd2de"
      },
      "source": [
        "print(\"top 50 most frequent words are:\", list(sorted_dict_content.items())[:50])\n",
        "print(\"top 50 most frequent words are:\", list(sorted_dict_titles.items())[:50])"
      ],
      "execution_count": 24,
      "outputs": [
        {
          "output_type": "stream",
          "text": [
            "top 50 most frequent words are: [(',', 8936), ('.', 7451), ('>', 2637), ('<', 2630), ('num', 2378), (\"'s\", 1570), ('``', 1187), (\"''\", 1124), (':', 1084), (')', 713), ('(', 711), ('-', 507), ('?', 492), ('!', 451), ('one', 441), (\"n't\", 430), ('people', 386), ('trump', 347), ('would', 332), ('like', 328), ('time', 292), ('us', 284), ('also', 276), ('new', 270), ('--', 267), (';', 265), ('blockchain', 260), ('...', 244), ('url', 243), ('said', 229), ('many', 226), ('market', 216), ('could', 214), ('even', 213), ('next', 212), (\"'\", 208), ('&', 206), ('think', 200), ('government', 200), ('state', 193), ('way', 191), ('president', 188), ('two', 185), ('may', 185), ('see', 183), ('world', 182), ('first', 181), ('life', 177), ('$', 176), ('make', 167)]\n",
            "top 50 most frequent words are: [(',', 303), ('>', 58), ('num', 58), ('<', 58), (':', 54), (\"'s\", 28), ('-', 25), ('trump', 24), (\"'\", 21), (')', 15), ('(', 15), ('?', 13), ('new', 13), (\"''\", 10), ('``', 9), ('--', 9), ('&', 9), ('president', 9), ('video', 8), ('market', 7), ('analysis', 7), ('!', 7), ('.', 7), ('...', 6), ('war', 6), ('us', 6), ('$', 5), ('russia', 5), ('report', 5), ('cancer', 5), ('part', 5), ('obama', 5), ('time', 5), ('see', 4), ('donald', 4), ('industry', 4), (\"n't\", 4), ('news', 4), ('world', 4), ('get', 4), ('really', 4), ('god', 4), ('could', 4), ('illegal', 4), ('work', 4), ('key', 4), ('says', 4), ('big', 4), ('free', 4), ('global', 4)]\n"
          ],
          "name": "stdout"
        }
      ]
    },
    {
      "cell_type": "code",
      "metadata": {
        "colab": {
          "base_uri": "https://localhost:8080/"
        },
        "id": "BCbl0Uhz7Sce",
        "outputId": "fd332f7a-c222-49e0-94dc-0838d2481e03"
      },
      "source": [
        "# dataframes content and titles dics\n",
        "pd_freq_content_words = pd.DataFrame()\n",
        "pd_freq_content_words[\"content_freq\"] = sorted_dict_titles.items()\n",
        "print(pd_freq_content_words)\n",
        "\n",
        "pd_freq_title_words = pd.DataFrame()\n",
        "pd_freq_title_words[\"Title_freq\"] = sorted_dict_content.items()\n",
        "print(pd_freq_title_words)"
      ],
      "execution_count": 25,
      "outputs": [
        {
          "output_type": "stream",
          "text": [
            "           content_freq\n",
            "0              (,, 303)\n",
            "1               (>, 58)\n",
            "2             (num, 58)\n",
            "3               (<, 58)\n",
            "4               (:, 54)\n",
            "...                 ...\n",
            "1294        (-month, 1)\n",
            "1295  (conservative, 1)\n",
            "1296       (aerosol, 1)\n",
            "1297   (daddy/sugar, 1)\n",
            "1298          (cold, 1)\n",
            "\n",
            "[1299 rows x 1 columns]\n",
            "           Title_freq\n",
            "0           (,, 8936)\n",
            "1           (., 7451)\n",
            "2           (>, 2637)\n",
            "3           (<, 2630)\n",
            "4         (num, 2378)\n",
            "...               ...\n",
            "16428       (dean, 1)\n",
            "16429  (re-assess, 1)\n",
            "16430    (sedelia, 1)\n",
            "16431      (crest, 1)\n",
            "16432  (focused.., 1)\n",
            "\n",
            "[16433 rows x 1 columns]\n"
          ],
          "name": "stdout"
        }
      ]
    },
    {
      "cell_type": "markdown",
      "metadata": {
        "id": "xQQXID_0zQPs"
      },
      "source": [
        "# Explore domain distribution (entire subdataset)"
      ]
    },
    {
      "cell_type": "code",
      "metadata": {
        "id": "WhT6_o3vFZXz",
        "colab": {
          "base_uri": "https://localhost:8080/"
        },
        "outputId": "b3345098-310e-4104-ab62-3118e9ffb4fc"
      },
      "source": [
        "# Explore domain distribution (entire subdataset)\n",
        "\n",
        "domain_distribution_df = pd.DataFrame(list(sorted_dict_domain_distribution.items()))\n",
        "print(domain_distribution_df)"
      ],
      "execution_count": 53,
      "outputs": [
        {
          "output_type": "stream",
          "text": [
            "                            0    1\n",
            "0           beforeitsnews.com  155\n",
            "1         canadafreepress.com   24\n",
            "2      washingtonexaminer.com   17\n",
            "3             www.newsmax.com    7\n",
            "4            awarenessact.com    6\n",
            "5             naturalnews.com    5\n",
            "6    willyloman.wordpress.com    4\n",
            "7       strategic-culture.org    4\n",
            "8           christianpost.com    3\n",
            "9                     awm.com    2\n",
            "10               alternet.org    2\n",
            "11      undergroundhealth.com    2\n",
            "12                  vdare.com    2\n",
            "13           city-journal.org    2\n",
            "14                cnnnext.com    1\n",
            "15       bipartisanreport.com    1\n",
            "16      blackagendareport.com    1\n",
            "17           charismanews.com    1\n",
            "18         barenakedislam.com    1\n",
            "19             breakpoint.org    1\n",
            "20  collectivelyconscious.net    1\n",
            "21         nationalreview.com    1\n",
            "22                    unz.com    1\n",
            "23        21stcenturywire.com    1\n",
            "24        washingtonsblog.com    1\n",
            "25        americanlookout.com    1\n",
            "26                 anonhq.com    1\n",
            "27              breitbart.com    1\n",
            "28     wallstreetonparade.com    1\n"
          ],
          "name": "stdout"
        }
      ]
    },
    {
      "cell_type": "code",
      "metadata": {
        "colab": {
          "base_uri": "https://localhost:8080/",
          "height": 283
        },
        "id": "yfLplYTycUoy",
        "outputId": "3f8fdac8-214b-4583-dbfd-852f2a795f49"
      },
      "source": [
        "#Uneven distribution of domains in subdataset. Represented as scatter plot:\n",
        "x=sorted_dict_domain_distribution.values()\n",
        "plt.scatter(x,x)"
      ],
      "execution_count": 36,
      "outputs": [
        {
          "output_type": "execute_result",
          "data": {
            "text/plain": [
              "<matplotlib.collections.PathCollection at 0x7f32ed4c6490>"
            ]
          },
          "metadata": {
            "tags": []
          },
          "execution_count": 36
        },
        {
          "output_type": "display_data",
          "data": {
            "image/png": "[encoded data removed]",
            "text/plain": [
              "<Figure size 432x288 with 1 Axes>"
            ]
          },
          "metadata": {
            "tags": [],
            "needs_background": "light"
          }
        }
      ]
    },
    {
      "cell_type": "markdown",
      "metadata": {
        "id": "e8HnCVlzcnH-"
      },
      "source": [
        "In above scatter plt we see one outlier. In this case a domain which appears in the dataset with a news story much more often than other domains. From here we will explore information about the outlier:"
      ]
    },
    {
      "cell_type": "code",
      "metadata": {
        "id": "UmO0kz_kK4nf"
      },
      "source": [
        "domain_type_data = data_df.take([2,3], axis=1)"
      ],
      "execution_count": 44,
      "outputs": []
    },
    {
      "cell_type": "code",
      "metadata": {
        "id": "SPRt_2438Mlh"
      },
      "source": [
        "#Outlier processing (beforeitsnews.com)\n",
        "\n",
        "#outlier indices in dataset\n",
        "list_of_outlier_domain_indices = []\n",
        "for i in range(len(list_of_domains_data)):\n",
        "  if list_of_domains_data[i] == \"beforeitsnews.com\":\n",
        "    list_of_outlier_domain_indices.append(i)"
      ],
      "execution_count": 45,
      "outputs": []
    },
    {
      "cell_type": "code",
      "metadata": {
        "colab": {
          "base_uri": "https://localhost:8080/"
        },
        "id": "mQ37f-SM9FFT",
        "outputId": "c840bf0c-76d1-4dd9-ee31-cca049df7c5c"
      },
      "source": [
        "#Extract rows from domain/type dataset about outlier \n",
        "outlier_domain_type_data = domain_type_data.take(list_of_outlier_domain_indices, axis=0)\n",
        "print('take rows from domain/type dataset =>\\n', outlier_domain_type_data)"
      ],
      "execution_count": 46,
      "outputs": [
        {
          "output_type": "stream",
          "text": [
            "take rows from domain/type dataset =>\n",
            "                 domain  type\n",
            "1    beforeitsnews.com  fake\n",
            "7    beforeitsnews.com  fake\n",
            "8    beforeitsnews.com  fake\n",
            "10   beforeitsnews.com  fake\n",
            "13   beforeitsnews.com  fake\n",
            "..                 ...   ...\n",
            "236  beforeitsnews.com  fake\n",
            "239  beforeitsnews.com  fake\n",
            "243  beforeitsnews.com  fake\n",
            "245  beforeitsnews.com  fake\n",
            "246  beforeitsnews.com  fake\n",
            "\n",
            "[155 rows x 2 columns]\n"
          ],
          "name": "stdout"
        }
      ]
    },
    {
      "cell_type": "code",
      "metadata": {
        "id": "wdLlIEfS9vOn"
      },
      "source": [
        "#Create a dictionary with types as keys, all initially with value 0:\n",
        "def outlier_type_distribution(type_list):\n",
        "  count_type = dict.fromkeys(type_list, 0)\n",
        "  for i in outlier_domain_type_data[\"type\"]:\n",
        "          if i in count_type:\n",
        "                count_type[i]+=1\n",
        "  sorted_dict_types = dict(sorted(count_type.items(), key=lambda x: x[1], reverse=True))\n",
        "  return sorted_dict_types\n"
      ],
      "execution_count": 47,
      "outputs": []
    },
    {
      "cell_type": "code",
      "metadata": {
        "id": "jqKqzBjm_SQ8"
      },
      "source": [
        "#Get outlier types as list\n",
        "def outlier_type_list():\n",
        "  list_of_types_outlier = []\n",
        "  for i in outlier_domain_type_data[\"type\"]:\n",
        "    list_of_types_outlier.append(fast_clean(i))\n",
        "  return list_of_types_outlier"
      ],
      "execution_count": 48,
      "outputs": []
    },
    {
      "cell_type": "code",
      "metadata": {
        "colab": {
          "base_uri": "https://localhost:8080/"
        },
        "id": "RGGlgztw94tF",
        "outputId": "c97d49a3-77da-44a9-d653-cb7a4053ff53"
      },
      "source": [
        "list_of_types_outlier = outlier_type_list()\n",
        "outlier_type_distribution(list_of_types_outlier)\n",
        "#all 155 \"fake\" news from one source, and outlier only labeled with fake news"
      ],
      "execution_count": 49,
      "outputs": [
        {
          "output_type": "execute_result",
          "data": {
            "text/plain": [
              "{'fake': 155}"
            ]
          },
          "metadata": {
            "tags": []
          },
          "execution_count": 49
        }
      ]
    },
    {
      "cell_type": "markdown",
      "metadata": {
        "id": "xBhZUu6kzXuh"
      },
      "source": [
        "# Explore type distribution (entire subdataset)"
      ]
    },
    {
      "cell_type": "code",
      "metadata": {
        "colab": {
          "base_uri": "https://localhost:8080/"
        },
        "id": "5fMYVQbAtJf9",
        "outputId": "42b26e25-2fdd-4ed6-dc44-ef69136e5502"
      },
      "source": [
        "# Explore type distribution (entire subdataset)\n",
        "domain_distribution_df = pd.DataFrame(list(sorted_dict_type_distribution.items()))\n",
        "print(domain_distribution_df)\n",
        "#12 missing values in type column, all 155 fake's from one source\n",
        "\n"
      ],
      "execution_count": 54,
      "outputs": [
        {
          "output_type": "stream",
          "text": [
            "             0    1\n",
            "0         fake  155\n",
            "1   conspiracy   31\n",
            "2    political   23\n",
            "3   unreliable    6\n",
            "4         bias    6\n",
            "5      junksci    6\n",
            "6      unknown    6\n",
            "7     reliable    3\n",
            "8    clickbait    1\n",
            "9         hate    1\n",
            "10         nan    0\n"
          ],
          "name": "stdout"
        }
      ]
    },
    {
      "cell_type": "code",
      "metadata": {
        "colab": {
          "base_uri": "https://localhost:8080/",
          "height": 283
        },
        "id": "vj3kkwFhtpc0",
        "outputId": "51d329ac-bbfe-45ef-9327-5eb0a0c48d31"
      },
      "source": [
        "x=sorted_dict_type_distribution.values()\n",
        "plt.scatter(x,x)"
      ],
      "execution_count": 43,
      "outputs": [
        {
          "output_type": "execute_result",
          "data": {
            "text/plain": [
              "<matplotlib.collections.PathCollection at 0x7f32ecdb3d50>"
            ]
          },
          "metadata": {
            "tags": []
          },
          "execution_count": 43
        },
        {
          "output_type": "display_data",
          "data": {
            "image/png": "[encoded data removed]",
            "text/plain": [
              "<Figure size 432x288 with 1 Axes>"
            ]
          },
          "metadata": {
            "tags": [],
            "needs_background": "light"
          }
        }
      ]
    },
    {
      "cell_type": "code",
      "metadata": {
        "colab": {
          "base_uri": "https://localhost:8080/",
          "height": 317
        },
        "id": "vPM2Cw-3tXJx",
        "outputId": "7029cebe-53ee-4592-c88e-428828a89100"
      },
      "source": [
        "plt.hist(x)"
      ],
      "execution_count": 257,
      "outputs": [
        {
          "output_type": "execute_result",
          "data": {
            "text/plain": [
              "(array([108.,   1.,   0.,   0.,   0.,   0.,   0.,   0.,   0.,   1.]),\n",
              " array([ 1. ,  8.9, 16.8, 24.7, 32.6, 40.5, 48.4, 56.3, 64.2, 72.1, 80. ]),\n",
              " <a list of 10 Patch objects>)"
            ]
          },
          "metadata": {
            "tags": []
          },
          "execution_count": 257
        },
        {
          "output_type": "display_data",
          "data": {
            "image/png": "[encoded data removed]",
            "text/plain": [
              "<Figure size 432x288 with 1 Axes>"
            ]
          },
          "metadata": {
            "tags": [],
            "needs_background": "light"
          }
        }
      ]
    },
    {
      "cell_type": "markdown",
      "metadata": {
        "id": "jPdzdOHYzefy"
      },
      "source": [
        "# Explore author distribution (entire subdataset)"
      ]
    },
    {
      "cell_type": "code",
      "metadata": {
        "colab": {
          "base_uri": "https://localhost:8080/"
        },
        "id": "26DUZ_g8z8UI",
        "outputId": "c3a14517-0696-40bd-8765-d4f36b11d93b"
      },
      "source": [
        "# Explore type distribution (entire subdataset)\n",
        "author_distribution_df = pd.DataFrame(list(sorted_dict_author_distribution.items()))\n",
        "print(author_distribution_df)\n",
        "#80 missing values (out of 250)"
      ],
      "execution_count": 67,
      "outputs": [
        {
          "output_type": "stream",
          "text": [
            "                     0   1\n",
            "0                  NaN  80\n",
            "1           John Rolls  10\n",
            "2      Gerald Sinclair   6\n",
            "3        Morgan Linton   6\n",
            "4    The Daily Sheeple   6\n",
            "..                 ...  ..\n",
            "105       Mark Swanson   1\n",
            "106    Susan Ferrechio   1\n",
            "107          Dimitry K   1\n",
            "108        Todd Beamon   1\n",
            "109      Bill Hoffmann   1\n",
            "\n",
            "[110 rows x 2 columns]\n"
          ],
          "name": "stdout"
        }
      ]
    },
    {
      "cell_type": "code",
      "metadata": {
        "colab": {
          "base_uri": "https://localhost:8080/"
        },
        "id": "m4sbbStr0N4C",
        "outputId": "e4ac1701-3041-41e9-c428-734d4c4c8591"
      },
      "source": [
        "sum(author_distribution_df[1])"
      ],
      "execution_count": 68,
      "outputs": [
        {
          "output_type": "execute_result",
          "data": {
            "text/plain": [
              "250"
            ]
          },
          "metadata": {
            "tags": []
          },
          "execution_count": 68
        }
      ]
    },
    {
      "cell_type": "code",
      "metadata": {
        "colab": {
          "base_uri": "https://localhost:8080/",
          "height": 282
        },
        "id": "kTJJ7IOR1KQz",
        "outputId": "b3de8917-9ae4-4773-f8d6-9a2fd5921e6f"
      },
      "source": [
        "x=sorted_dict_author_distribution.values()\n",
        "plt.scatter(x,x)\n",
        "#outlier among authors is nan"
      ],
      "execution_count": 69,
      "outputs": [
        {
          "output_type": "execute_result",
          "data": {
            "text/plain": [
              "<matplotlib.collections.PathCollection at 0x7f32e7199d90>"
            ]
          },
          "metadata": {
            "tags": []
          },
          "execution_count": 69
        },
        {
          "output_type": "display_data",
          "data": {
            "image/png": "[encoded data removed]",
            "text/plain": [
              "<Figure size 432x288 with 1 Axes>"
            ]
          },
          "metadata": {
            "tags": [],
            "needs_background": "light"
          }
        }
      ]
    },
    {
      "cell_type": "code",
      "metadata": {
        "colab": {
          "base_uri": "https://localhost:8080/"
        },
        "id": "H0pm9TsuBSo0",
        "outputId": "4f0e404f-a551-4a81-a081-894bf9a68e88"
      },
      "source": [
        "#Relation between author and type\n",
        "\n",
        "#Extract author and type cols from data\n",
        "author_type_data = data_df.take([3, 10], axis=1)\n",
        "print('take cols from data dataset =>\\n', author_type_data)"
      ],
      "execution_count": 70,
      "outputs": [
        {
          "output_type": "stream",
          "text": [
            "take cols from data dataset =>\n",
            "            type          authors\n",
            "0    unreliable      Ruth Harris\n",
            "1          fake     Zurich Times\n",
            "2    unreliable              NaN\n",
            "3    unreliable  Alexander Smith\n",
            "4     clickbait  Gloria Christie\n",
            "..          ...              ...\n",
            "245        fake              NaN\n",
            "246        fake        Dimitry K\n",
            "247         NaN      Todd Beamon\n",
            "248         NaN    Bill Hoffmann\n",
            "249         NaN              NaN\n",
            "\n",
            "[250 rows x 2 columns]\n"
          ],
          "name": "stdout"
        }
      ]
    },
    {
      "cell_type": "code",
      "metadata": {
        "colab": {
          "base_uri": "https://localhost:8080/"
        },
        "id": "qqW3cPkcB0Q9",
        "outputId": "3c91ccb1-365b-47cb-f3cc-ed74fa8870a6"
      },
      "source": [
        "#Extract rows from author/type dataset - Q: relation between fake and authos as nan\n",
        "\n",
        "#\"fake\" indices in dataset\n",
        "list_of_fake_indices_data = []\n",
        "for i in range(len(list_of_types_data)):\n",
        "  if list_of_types_data[i] == \"fake\":\n",
        "    list_of_fake_indices_data.append(i)\n",
        "\n",
        "author_fake_data = author_type_data.take(list_of_fake_indices_data, axis=0)\n",
        "print('take rows from domain/type dataset =>\\n', author_fake_data)"
      ],
      "execution_count": 71,
      "outputs": [
        {
          "output_type": "stream",
          "text": [
            "take rows from domain/type dataset =>\n",
            "      type                  authors\n",
            "1    fake             Zurich Times\n",
            "7    fake                      NaN\n",
            "8    fake                      NaN\n",
            "10   fake               John Rolls\n",
            "13   fake  Cna Daily News - Europe\n",
            "..    ...                      ...\n",
            "236  fake              Marler Blog\n",
            "239  fake                      NaN\n",
            "243  fake                      NaN\n",
            "245  fake                      NaN\n",
            "246  fake                Dimitry K\n",
            "\n",
            "[155 rows x 2 columns]\n"
          ],
          "name": "stdout"
        }
      ]
    },
    {
      "cell_type": "code",
      "metadata": {
        "id": "SwlyCq-PButN"
      },
      "source": [
        "#Fake author list\n",
        "def fake_author_list():\n",
        "  list_of_fake_authors = []\n",
        "  for i in author_fake_data[\"authors\"]:\n",
        "      list_of_fake_authors.append(i)\n",
        "  return list_of_fake_authors"
      ],
      "execution_count": 72,
      "outputs": []
    },
    {
      "cell_type": "code",
      "metadata": {
        "colab": {
          "base_uri": "https://localhost:8080/"
        },
        "id": "45RcDH08CYNY",
        "outputId": "6f8da618-347b-4379-9132-a732d1d54601"
      },
      "source": [
        "list_of_fake_authors = fake_author_list()\n",
        "print(list_of_fake_authors)"
      ],
      "execution_count": 73,
      "outputs": [
        {
          "output_type": "stream",
          "text": [
            "['Zurich Times', nan, nan, 'John Rolls', 'Cna Daily News - Europe', 'Baroness Photos', 'Universe Today', nan, 'John Rolls', 'Lisa Haven', 'Freedom Bunker', nan, 'John Rolls', 'Lisa Haven', 'Morgan Linton', 'John Rolls', 'Freedom Bunker', 'Lisa Haven', 'Freedom Bunker', 'John Rolls', nan, 'Pawan Kadu', nan, 'John Rolls', nan, nan, nan, 'John Rolls', 'John Rolls', 'John Rolls', nan, nan, 'Lisa Haven', 'John Rolls', nan, 'Michael Johnston', 'Alton Parrish', 'Alton Parrish', nan, nan, 'Downsize Dc', 'Alton Parrish', nan, 'Universe Today', 'Downsize Dc', 'Morgan Linton', 'Morgan Linton', 'Morgan Linton', 'Morgan Linton', 'Morgan Linton', 'Judicial Watch', 'Wake Up World', nan, 'Wake Up World', 'Cop Block', 'B Mans Revolt', 'Due Diligence', nan, 'Alpha Sources', 'Due Diligence', 'B Mans Revolt', 'Dpsp, Truth Endures Forever', 'The Vatic Project', nan, nan, nan, 'Jeffery Pritchett', nan, 'Ufo Iconoclast', 'Ufo Iconoclast', 'Earth Heal', 'Norml Foundation', 'Norml Foundation', 'Henry Makow', 'Shahzaib Elahi', 'Earth Heal', 'Tea With Ft', 'European Southern Observatory', 'Shahzaib Elahi', 'Mercedes Kirkel', \"A Bad Witch'S Blog\", 'Mercedes Kirkel', \"A Bad Witch'S Blog\", 'Psychic Focus', 'Psychic Focus', nan, 'Psychic Focus', nan, nan, nan, nan, 'Nunez Report', nan, 'James Rathey', 'Escape Corporate America', 'The Conglomerate', 'Talking Biz News', 'The Conglomerate', 'Evan Wyatt', nan, 'The Daily Sheeple', nan, nan, nan, 'Mick Meaney', nan, nan, 'Firearms Radio Network', nan, nan, 'Data Bridge Market Research', \"Caroline'S Breast Cancer Blog\", \"Caroline'S Breast Cancer Blog\", \"Caroline'S Breast Cancer Blog\", 'Natural Blaze', nan, 'Towards A New World', nan, 'James - Divine Love Spirituality', 'Wisdom Blog Of Art Of Living', 'Andrew Cort', \"Ellen Dugan'S Blog Of Witchery\", 'Omtimes Magazine', 'Shahzaib Elahi', nan, 'Reason Magazine', \"Adrienne, 'S Corner\", nan, 'The Daily Sheeple', 'The Scenario', 'San Francisco Bay View', nan, 'The Daily Sheeple', nan, nan, nan, 'Philosophers Stone', nan, nan, nan, 'Marler Blog', nan, nan, 'The Daily Sheeple', 'James Rathey', 'Marler Blog', 'The Daily Sheeple', 'The Daily Sheeple', 'Marler Blog', 'American Everyman', 'Marler Blog', nan, nan, nan, 'Dimitry K']\n"
          ],
          "name": "stdout"
        }
      ]
    },
    {
      "cell_type": "code",
      "metadata": {
        "id": "nhQwt-XpDwO0"
      },
      "source": [
        "def fake_author_distribution(fake_author_list):\n",
        "  count_fake_author = dict.fromkeys(fake_author_list, 0)\n",
        "  for i in author_fake_data[\"authors\"]:\n",
        "      if i in count_fake_author:\n",
        "                count_fake_author[i]+=1\n",
        "  sorted_dict_fake_authors = dict(sorted(count_fake_author.items(), key=lambda x: x[1], reverse=True))\n",
        "  return sorted_dict_fake_authors\n"
      ],
      "execution_count": 74,
      "outputs": []
    },
    {
      "cell_type": "code",
      "metadata": {
        "id": "T8BnddlaCaEK"
      },
      "source": [
        "sorted_dict_fake_author_distribution = fake_author_distribution(list_of_fake_authors)"
      ],
      "execution_count": 75,
      "outputs": []
    },
    {
      "cell_type": "code",
      "metadata": {
        "colab": {
          "base_uri": "https://localhost:8080/"
        },
        "id": "kMQP6MWDCbnR",
        "outputId": "a18a913d-fc1f-4f68-ec74-1dbc47084f76"
      },
      "source": [
        "fake_author_distribution_df = pd.DataFrame(list(sorted_dict_fake_author_distribution.items()))\n",
        "print(fake_author_distribution_df)\n",
        "#out of approx 80 fake articles 51 are anonymous"
      ],
      "execution_count": 77,
      "outputs": [
        {
          "output_type": "stream",
          "text": [
            "                                   0   1\n",
            "0                                NaN  51\n",
            "1                         John Rolls  10\n",
            "2                      Morgan Linton   6\n",
            "3                  The Daily Sheeple   6\n",
            "4                         Lisa Haven   4\n",
            "5                        Marler Blog   4\n",
            "6                     Freedom Bunker   3\n",
            "7                      Alton Parrish   3\n",
            "8                     Shahzaib Elahi   3\n",
            "9                      Psychic Focus   3\n",
            "10     Caroline'S Breast Cancer Blog   3\n",
            "11                    Universe Today   2\n",
            "12                       Downsize Dc   2\n",
            "13                     Wake Up World   2\n",
            "14                     B Mans Revolt   2\n",
            "15                     Due Diligence   2\n",
            "16                    Ufo Iconoclast   2\n",
            "17                        Earth Heal   2\n",
            "18                  Norml Foundation   2\n",
            "19                   Mercedes Kirkel   2\n",
            "20                A Bad Witch'S Blog   2\n",
            "21                      James Rathey   2\n",
            "22                  The Conglomerate   2\n",
            "23                      Zurich Times   1\n",
            "24           Cna Daily News - Europe   1\n",
            "25                   Baroness Photos   1\n",
            "26                        Pawan Kadu   1\n",
            "27                  Michael Johnston   1\n",
            "28                    Judicial Watch   1\n",
            "29                         Cop Block   1\n",
            "30                     Alpha Sources   1\n",
            "31       Dpsp, Truth Endures Forever   1\n",
            "32                 The Vatic Project   1\n",
            "33                 Jeffery Pritchett   1\n",
            "34                       Henry Makow   1\n",
            "35                       Tea With Ft   1\n",
            "36     European Southern Observatory   1\n",
            "37                      Nunez Report   1\n",
            "38          Escape Corporate America   1\n",
            "39                  Talking Biz News   1\n",
            "40                        Evan Wyatt   1\n",
            "41                       Mick Meaney   1\n",
            "42            Firearms Radio Network   1\n",
            "43       Data Bridge Market Research   1\n",
            "44                     Natural Blaze   1\n",
            "45               Towards A New World   1\n",
            "46  James - Divine Love Spirituality   1\n",
            "47      Wisdom Blog Of Art Of Living   1\n",
            "48                       Andrew Cort   1\n",
            "49    Ellen Dugan'S Blog Of Witchery   1\n",
            "50                  Omtimes Magazine   1\n",
            "51                   Reason Magazine   1\n",
            "52               Adrienne, 'S Corner   1\n",
            "53                      The Scenario   1\n",
            "54            San Francisco Bay View   1\n",
            "55                Philosophers Stone   1\n",
            "56                 American Everyman   1\n",
            "57                         Dimitry K   1\n"
          ],
          "name": "stdout"
        }
      ]
    },
    {
      "cell_type": "markdown",
      "metadata": {
        "id": "Z-4qoYgZFSFO"
      },
      "source": [
        "# **Task 4**\n"
      ]
    },
    {
      "cell_type": "markdown",
      "metadata": {
        "id": "x7InAniNF5nc"
      },
      "source": [
        "In this task you should create your very own news data set by scraping it from the web. We will be looking at the \"Politics and Conflict\" section of the Wikinews site (https://en.wikinews.org/wiki/Category:Politics_and_conflicts), which contains news articles sorted by the first letter in their title. Since we want the different groups to have slightly different experiences with this data, each group should try to extract the articles for a specific range of letters - given by the python expression:\n",
        "\n",
        "\n",
        "\n",
        "\"ABCDEFGHIJKLMNOPRSTUVWZABCDEFGHIJKLMNOPRSTUVWZ\"[group_nr%23:group_nr%23+10]\n",
        "\n",
        "\n",
        "\n",
        "where group_nr is your group number (according to Task 1). The data set you produce should contain fields corresponding to the content of the article, in addition to some metadata fields like the date when the article was written. Describe the tools you used, and any challenges that you faced, and report some basic statistics on the data (e.g. number of rows, fields, etc). Note that there are no fake/no-fake labels in this dataset - we will consider it as a trusted source of only true articles. Assess whether this is a reasonable choice."
      ]
    },
    {
      "cell_type": "code",
      "metadata": {
        "colab": {
          "base_uri": "https://localhost:8080/",
          "height": 35
        },
        "id": "FSBOSxgp66u1",
        "outputId": "a53aa8b3-8f77-421b-c202-557db06a6e0c"
      },
      "source": [
        "# Extract the articles for a specific range of letters - \n",
        "# Calculate group 16 range:\n",
        "\"ABCDEFGHIJKLMNOPRSTUVWZABCDEFGHIJKLMNOPRSTUVWZ\"[16%23:16%23+10]\n"
      ],
      "execution_count": 1,
      "outputs": [
        {
          "output_type": "execute_result",
          "data": {
            "application/vnd.google.colaboratory.intrinsic+json": {
              "type": "string"
            },
            "text/plain": [
              "'RSTUVWZABC'"
            ]
          },
          "metadata": {
            "tags": []
          },
          "execution_count": 1
        }
      ]
    },
    {
      "cell_type": "markdown",
      "metadata": {
        "id": "MpoVL9TXGhq1"
      },
      "source": [
        "Create dataset\n"
      ]
    },
    {
      "cell_type": "code",
      "metadata": {
        "id": "ZE5UR2ck34w8"
      },
      "source": [
        "#Get website as text\n",
        "response = requests.get('https://en.wikinews.org/wiki/Category:Politics_and_conflicts')\n",
        "contents = response.text\n",
        "#print(contents)"
      ],
      "execution_count": 8,
      "outputs": []
    },
    {
      "cell_type": "code",
      "metadata": {
        "colab": {
          "base_uri": "https://localhost:8080/",
          "height": 240
        },
        "id": "y1S2USUD5zLC",
        "outputId": "093acafe-32a0-4391-f49a-e5ba93e9239e"
      },
      "source": [
        "#Parse website contents\n",
        "soup = bs4(contents, 'html.parser')\n",
        "\"\"\"\n",
        "\n",
        "works:\n",
        "article_container_2 = soup.find_all('div', class_=\"mw-category-group\")\n",
        "for article in article_container_2:\n",
        "  z = re.match(\"[A-CR-Z]\",article.find('h3').get_text())\n",
        "  if z:\n",
        "      #print(article.get_text()) \n",
        "      a = article.find_all('a')\n",
        "      for tag in a:\n",
        "          print(tag.get('href'))\n",
        "\n",
        "\n",
        "\n",
        "article_container_3 = soup.find(id=\"mw-pages\")\n",
        "#article_sub_container_3 = article_container_3.find_all('div', class_=\"mw-content-ltr\")\n",
        "article_sub_container_3 = article_container_3.find_all('h2') #, class_=\"mw-category-group\"\n",
        "result = article_sub_container_3[0]\n",
        "print(result)\n",
        "\"\"\"\n",
        "#Get all links for articles of all letters\n",
        "list_of_links = []\n",
        "article_container_4 = soup.find('table', class_='toccolours plainlinks')\n",
        "#print(article_container_4.prettify())\n",
        "links = article_container_4.find_all('a')\n",
        "for link in links:\n",
        "  z = re.match(\"[RSTUVWZABC?](?!op)\", link.get_text()) \n",
        "  if z:\n",
        "    list_of_links.append(link.get('href'))\n",
        "    #print(link.get('href'))\n",
        "#print(list_of_links[0])\n",
        "\n",
        "#Get A articles\n",
        "A_response = requests.get(list_of_links[0])\n",
        "A_contents = A_response.text\n",
        "#print(A_contents)\n",
        "\n",
        "A_soup = bs4(A_contents, 'html.parser')\n",
        "A_container = A_soup.find('div', id=\"mw-pages\")\n",
        "#print(A_container)\n",
        "A_articles = A_container.find_all('a')\n",
        "for article in A_articles:\n",
        "        print(article.get('href'))\n",
        "##to links før og efter der ikke burde være der\n",
        "\n",
        "\n",
        "\"\"\"\n",
        "for article in article_sub_container_3:\n",
        "  z = re.match(\"[A]\",article.find('h3').get_text())\n",
        "  if z:\n",
        "      a = article.find_all('a')\n",
        "      for tag in a:\n",
        "          print(tag.get('href'))\n",
        "\"\"\"\n"
      ],
      "execution_count": 2,
      "outputs": [
        {
          "output_type": "error",
          "ename": "NameError",
          "evalue": "ignored",
          "traceback": [
            "\u001b[0;31m---------------------------------------------------------------------------\u001b[0m",
            "\u001b[0;31mNameError\u001b[0m                                 Traceback (most recent call last)",
            "\u001b[0;32m<ipython-input-2-e5e9388dd319>\u001b[0m in \u001b[0;36m<module>\u001b[0;34m()\u001b[0m\n\u001b[1;32m      1\u001b[0m \u001b[0;31m#Parse website contents\u001b[0m\u001b[0;34m\u001b[0m\u001b[0;34m\u001b[0m\u001b[0;34m\u001b[0m\u001b[0m\n\u001b[0;32m----> 2\u001b[0;31m \u001b[0msoup\u001b[0m \u001b[0;34m=\u001b[0m \u001b[0mbs4\u001b[0m\u001b[0;34m(\u001b[0m\u001b[0mcontents\u001b[0m\u001b[0;34m,\u001b[0m \u001b[0;34m'html.parser'\u001b[0m\u001b[0;34m)\u001b[0m\u001b[0;34m\u001b[0m\u001b[0;34m\u001b[0m\u001b[0m\n\u001b[0m\u001b[1;32m      3\u001b[0m \"\"\"\n\u001b[1;32m      4\u001b[0m \u001b[0;34m\u001b[0m\u001b[0m\n\u001b[1;32m      5\u001b[0m \u001b[0mworks\u001b[0m\u001b[0;34m:\u001b[0m\u001b[0;34m\u001b[0m\u001b[0;34m\u001b[0m\u001b[0m\n",
            "\u001b[0;31mNameError\u001b[0m: name 'bs4' is not defined"
          ]
        }
      ]
    },
    {
      "cell_type": "code",
      "metadata": {
        "colab": {
          "base_uri": "https://localhost:8080/"
        },
        "id": "FajmkgmLykmu",
        "outputId": "b6ae099d-381b-451d-edd5-12245cf6658d"
      },
      "source": [
        "import requests\n",
        "page = requests.get(\"https://en.wikipedia.org/wiki/Main_Page\")\n",
        "page\n",
        "page.status_code\n",
        "page.content\n",
        "\n",
        "from bs4 import BeautifulSoup\n",
        "soup = BeautifulSoup(page.content, 'html.parser')\n",
        "#print(soup.prettify())\n",
        "\n",
        "page = requests.get(\"https://en.wikipedia.org/wiki/Main_Page\")\n",
        "soup = BeautifulSoup(page.content, 'html.parser')\n",
        "object = soup.find(id=\"mp-left\")\n",
        "items = object.find_all(class_=\"mp-h2\")\n",
        "result = items[0]\n",
        "print(result.prettify())"
      ],
      "execution_count": 130,
      "outputs": [
        {
          "output_type": "stream",
          "text": [
            "<h2 class=\"mp-h2\" id=\"mp-tfa-h2\">\n",
            " <span id=\"From_today.27s_featured_article\">\n",
            " </span>\n",
            " <span class=\"mw-headline\" id=\"From_today's_featured_article\">\n",
            "  From today's featured article\n",
            " </span>\n",
            "</h2>\n",
            "\n"
          ],
          "name": "stdout"
        }
      ]
    },
    {
      "cell_type": "code",
      "metadata": {
        "colab": {
          "base_uri": "https://localhost:8080/"
        },
        "id": "iDXWcM-KBu0Z",
        "outputId": "d2740f95-ce77-4335-a25e-27b0143bd2ee"
      },
      "source": [
        "#h3_class = article_container.find(class_=\"mw-category-group\")\n",
        "\n",
        "records = []  \n",
        "for article in article_container:  \n",
        "    a_ = article.find('div', attrs={'class':'mw-category-group'}).text # result not results\n",
        "    #price = result.find('div', attrs={'class':'price'}).text[13:-11]\n",
        "    records.append((a_,))\n",
        "\n",
        "print(records)"
      ],
      "execution_count": 19,
      "outputs": [
        {
          "output_type": "stream",
          "text": [
            "[('2\\n►  2005 Political crisis in Brazil\\u200e (10\\xa0articles)\\n►  2006 Israel-Lebanon conflict\\u200e (57\\xa0articles)\\n►  2006 Thailand coup\\u200e (5\\xa0articles)\\n►  2007 Ontario provincial election\\u200e (60\\xa0articles)\\n►  2008 Taiwan Presidential Election\\u200e (3\\xa0articles)\\n►  2011 England riots\\u200e (4\\xa0articles)\\n►  2014 Gaza War\\u200e (10\\xa0articles)\\n►  2014 Libyan conflict\\u200e (6\\xa0articles)\\n►  2019 Hong Kong protests\\u200e (6\\xa0articles)',), ('\"\\n\"Avast ye scurvy file sharers!\": Interview with Swedish Pirate Party leader Rickard Falkvinge\\n\"Bigoted woman\": controversial Gordon Brown remarks caught on air\\n\"Civil defence\" thwarts Israeli air strike on Gaza refugee camp\\n\"Corrupt\" New Zealand government to repay $768,000\\n\"Darfur a powder keg\" says UN Head of Humanitarian Affairs\\n\"Jihad\" Jack Thomas acquitted of terrorism conviction\\n\"Osama to Obama\": Bin Laden addresses US President\\n\"Teddy bear teacher\" returns to England\\n\"Ten Commandments\" judge loses Alabama gubernatorial primary\\n\"Virtual fence\" along US-Mexico border scrapped',)]\n"
          ],
          "name": "stdout"
        }
      ]
    }
  ]
}